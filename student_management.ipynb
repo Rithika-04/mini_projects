{
  "nbformat": 4,
  "nbformat_minor": 0,
  "metadata": {
    "colab": {
      "provenance": [],
      "authorship_tag": "ABX9TyMa6S6OHe1cRiupVv5BlKBV",
      "include_colab_link": true
    },
    "kernelspec": {
      "name": "python3",
      "display_name": "Python 3"
    },
    "language_info": {
      "name": "python"
    }
  },
  "cells": [
    {
      "cell_type": "markdown",
      "metadata": {
        "id": "view-in-github",
        "colab_type": "text"
      },
      "source": [
        "<a href=\"https://colab.research.google.com/github/Rithika-04/mini_projects/blob/main/student_management.ipynb\" target=\"_parent\"><img src=\"https://colab.research.google.com/assets/colab-badge.svg\" alt=\"Open In Colab\"/></a>"
      ]
    },
    {
      "cell_type": "code",
      "execution_count": null,
      "metadata": {
        "id": "dBHyyXqk4ov5"
      },
      "outputs": [],
      "source": [
        "students=[ {'id': '102', 'name': 'Arun', 'mark': '85'},\n",
        "    {'id': '103', 'name': 'Neha', 'mark': '78'},\n",
        "    {'id': '104', 'name': 'Vikram', 'mark': '92'},\n",
        "    {'id': '105', 'name': 'Sneha', 'mark': '88'}]\n",
        "def add_details():\n",
        "  key=[\"id\",\"name\",\"mark\"]\n",
        "  user_input=list(map(str,input(\"enter id,name,mark:\\n\").split(\",\")))\n",
        "  stud_dict=dict(zip(key,user_input))\n",
        "  students.append(stud_dict)\n",
        "  print(\"student are added!!\")\n",
        "add_details()\n"
      ]
    },
    {
      "cell_type": "code",
      "source": [
        "def view_students():\n",
        "  if not students:\n",
        "    print(\"students details not found\")\n",
        "  else:\n",
        "    students.sort(key=lambda x: int(x['id']))\n",
        "    for i,details in enumerate(students,1):\n",
        "      print(f\"{i}. id :{details['id']}\")\n",
        "      print(f\"   name :{details['name']}\")\n",
        "      print(f\"   mark :{details['mark']}\")\n",
        "view_students()\n"
      ],
      "metadata": {
        "id": "zeUk6Lma4qAC"
      },
      "execution_count": null,
      "outputs": []
    },
    {
      "cell_type": "code",
      "source": [
        "def topper():\n",
        "    highest=max(students,key=lambda x:int(x['mark']))\n",
        "    print(f\"top student:\\nid: {highest['id']}\")\n",
        "    print(f\"name: {highest['name']}\")\n",
        "    print(f\"mark: {highest['mark']}\")\n",
        "topper()"
      ],
      "metadata": {
        "id": "nlaF0y3G4sdw"
      },
      "execution_count": null,
      "outputs": []
    },
    {
      "cell_type": "code",
      "source": [
        "def average():\n",
        "  sum=0\n",
        "  for i in students:\n",
        "    sum+=int(i['mark'])\n",
        "  avg=sum/len(students)\n",
        "  print(f\"{avg}\")\n",
        "average()"
      ],
      "metadata": {
        "id": "3V447RBw4uM8"
      },
      "execution_count": null,
      "outputs": []
    },
    {
      "cell_type": "code",
      "source": [
        "def menu():\n",
        "  while True:\n",
        "    print(\"The Task can be performed are:\")\n",
        "    print(\"\"\"\n",
        "          1.Add students\n",
        "          2.View Students\n",
        "          3.To Know The Top Scorer\n",
        "          4.Calculate Class Average\\n\"\"\")\n",
        "    n=input(\"enter the choice\\n\")\n",
        "    if n=='1':\n",
        "      add_details()\n",
        "    elif n=='2':\n",
        "      view_students()\n",
        "    elif n=='3':\n",
        "      topper()\n",
        "    elif n=='4':\n",
        "      average()\n",
        "    else:\n",
        "      print(\"The number is out of range:\")\n",
        "      break\n",
        "menu()"
      ],
      "metadata": {
        "id": "HQcVAqGs4v8L"
      },
      "execution_count": null,
      "outputs": []
    }
  ]
}