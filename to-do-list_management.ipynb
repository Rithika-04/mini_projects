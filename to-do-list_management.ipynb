{
  "nbformat": 4,
  "nbformat_minor": 0,
  "metadata": {
    "colab": {
      "provenance": [],
      "authorship_tag": "ABX9TyOYUJry4HVOjrGIVQuv+VLl",
      "include_colab_link": true
    },
    "kernelspec": {
      "name": "python3",
      "display_name": "Python 3"
    },
    "language_info": {
      "name": "python"
    }
  },
  "cells": [
    {
      "cell_type": "markdown",
      "metadata": {
        "id": "view-in-github",
        "colab_type": "text"
      },
      "source": [
        "<a href=\"https://colab.research.google.com/github/Rithika-04/mini_projects/blob/main/to-do-list_management.ipynb\" target=\"_parent\"><img src=\"https://colab.research.google.com/assets/colab-badge.svg\" alt=\"Open In Colab\"/></a>"
      ]
    },
    {
      "cell_type": "code",
      "execution_count": null,
      "metadata": {
        "id": "e51kcA5fisEc"
      },
      "outputs": [],
      "source": [
        "todolist=[]\n",
        "def add_task():\n",
        "  task=list(map(str.strip,input(\"enter the tasks: \\n\").split(',')))\n",
        "  todolist.extend(task)\n",
        "  print(\"task added!\\n\")\n",
        "add_task()\n",
        "print(todolist)"
      ]
    },
    {
      "cell_type": "code",
      "source": [
        "def view_task():\n",
        "  if not todolist:\n",
        "    print(\"The Task is empty😒\\n\")\n",
        "  else:\n",
        "    for task in range(len(todolist)):\n",
        "      print(f\"{task+1}.{todolist[task]}\")\n",
        "view_task()"
      ],
      "metadata": {
        "id": "y6ebdo5wi5XW"
      },
      "execution_count": null,
      "outputs": []
    },
    {
      "cell_type": "code",
      "source": [
        "def remove_task():\n",
        "  if not todolist:\n",
        "    print(\"the list is empty\")\n",
        "  else:\n",
        "    print(\"the tasks are:\\n\")\n",
        "    view_task()\n",
        "    try:\n",
        "      task_no=int(input(\"enter which task to remove: \"))\n",
        "      if 1 <= task_no <= len(todolist):\n",
        "        removed=todolist.pop(task_no-1)\n",
        "        print(f\"element is deleted: {removed}\\n\")\n",
        "      else:\n",
        "        print(\"invalid task number\")\n",
        "    except ValueError:\n",
        "      print(\"enter a valid number!!\")\n",
        "remove_task()"
      ],
      "metadata": {
        "id": "noinZvB-i83n"
      },
      "execution_count": null,
      "outputs": []
    },
    {
      "cell_type": "code",
      "source": [
        "import sys\n",
        "while True:\n",
        "  print(f\"the task menu:\")\n",
        "  print(f\"1.To add a task\")\n",
        "  print(f\"2.To view a task\")\n",
        "  print(f\"3.To remove a task\")\n",
        "  print(f\"4.To Exit the program\\n\")\n",
        "  n=input(\"choose the number\")\n",
        "  if n=='1':\n",
        "    add_task()\n",
        "  elif n=='2':\n",
        "    view_task()\n",
        "  elif n=='3':\n",
        "    remove_task()\n",
        "  elif n=='4':\n",
        "    sys.exit(\"bye!! thank you for using\")\n",
        "    break\n",
        "  else:\n",
        "    print(f\"enter a valid number\")"
      ],
      "metadata": {
        "id": "SDftAP_djAWu"
      },
      "execution_count": null,
      "outputs": []
    }
  ]
}