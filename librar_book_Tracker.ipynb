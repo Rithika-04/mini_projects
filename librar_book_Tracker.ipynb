{
  "nbformat": 4,
  "nbformat_minor": 0,
  "metadata": {
    "colab": {
      "provenance": [],
      "authorship_tag": "ABX9TyOPq0SEWJKxDmKYC/k80Wcx",
      "include_colab_link": true
    },
    "kernelspec": {
      "name": "python3",
      "display_name": "Python 3"
    },
    "language_info": {
      "name": "python"
    }
  },
  "cells": [
    {
      "cell_type": "markdown",
      "metadata": {
        "id": "view-in-github",
        "colab_type": "text"
      },
      "source": [
        "<a href=\"https://colab.research.google.com/github/Rithika-04/mini_projects/blob/main/librar_book_Tracker.ipynb\" target=\"_parent\"><img src=\"https://colab.research.google.com/assets/colab-badge.svg\" alt=\"Open In Colab\"/></a>"
      ]
    },
    {
      "cell_type": "code",
      "execution_count": null,
      "metadata": {
        "id": "5SiQo0sD8BbU"
      },
      "outputs": [],
      "source": [
        "library=[{'title': 'Harry Potter and the Sorcerer\\'s Stone', 'author': 'J.K. Rowling', 'available': True},\n",
        "    {'title': 'To Kill a Mockingbird', 'author': 'Harper Lee', 'available': True},\n",
        "    {'title': '1984', 'author': 'George Orwell', 'available': False},\n",
        "    {'title': 'The Great Gatsby', 'author': 'F. Scott Fitzgerald', 'available': True},\n",
        "    {'title': 'The Hobbit', 'author': 'J.R.R. Tolkien', 'available': False},\n",
        "    {'title': 'Pride and Prejudice', 'author': 'Jane Austen', 'available': True},\n",
        "    {'title': 'The Alchemist', 'author': 'Paulo Coelho', 'available': True}]\n",
        "def add_book():\n",
        "  title=input(\"enter the title: \")\n",
        "  author=input(\"enter the name of the author: \")\n",
        "  library.append({'title':title,'author':author,'available':True})\n",
        "  print(\"Book is added😉\")\n",
        "add_book()\n",
        "\n",
        "\n"
      ]
    },
    {
      "cell_type": "code",
      "source": [
        "def view_book():\n",
        "  if not library:\n",
        "    print(\"books are not added\")\n",
        "  else:\n",
        "    for i,books in enumerate(library,1):\n",
        "      print(f\"{i}.\\nTitle:{books['title']}\\nAuthor:{books['author']}\\nAvailable:{books['available']}\")\n",
        "view_book()"
      ],
      "metadata": {
        "id": "NwMQ8cBGKNrH"
      },
      "execution_count": null,
      "outputs": []
    },
    {
      "cell_type": "code",
      "source": [
        "def remove_book():\n",
        "  n=int(input(\"enter the number to delete\"))\n",
        "  if 1 <= n  <=len(library):\n",
        "    removed=library.pop(n-1)\n",
        "    print(\"book is removed: \",removed)\n",
        "  else:\n",
        "    print(\"out of range\")\n",
        "remove_book()"
      ],
      "metadata": {
        "id": "_rUkwAQg5QA6"
      },
      "execution_count": null,
      "outputs": []
    },
    {
      "cell_type": "code",
      "source": [
        "def borrow_book():\n",
        "  view_book()\n",
        "  n=int(input(\"choose which book to borrow\\n\"))\n",
        "  if 1 <= n <= len(library):\n",
        "    book=library[n-1]\n",
        "    if book['available']:\n",
        "      book['available']=False\n",
        "      print(f\"book is borrowed: ,{book['title']}\")\n",
        "    else:\n",
        "      print(\"book is already borrowed \")\n",
        "borrow_book()"
      ],
      "metadata": {
        "id": "su5vXGxR9OMm"
      },
      "execution_count": null,
      "outputs": []
    },
    {
      "cell_type": "code",
      "source": [
        "def search_book():\n",
        "  name=input(\"enter the book name:\\n\").strip()\n",
        "  found=False\n",
        "  for book in library:\n",
        "    if name.lower() in book['title'].lower():\n",
        "      found=True\n",
        "      print(f\"the book is found👌\\nTitle:{book['title']}\\nAuthor:{book['author']}\\nAvailabilty:{book['available']}\")\n",
        "      if book['available']:\n",
        "        choice=input(\"do you want to borrow it: Y/N\")\n",
        "        if choice.lower()=='y':\n",
        "          book['available']=False\n",
        "          print(f\"book is borrowed: ,{book['title']}\")\n",
        "        else:\n",
        "          print(\"thank you for visiting\")\n",
        "      else:\n",
        "        print(\"it is already borrowed\")\n",
        "      break\n",
        "search_book()"
      ],
      "metadata": {
        "id": "bscaWZukDiG-"
      },
      "execution_count": null,
      "outputs": []
    },
    {
      "cell_type": "code",
      "source": [
        "def return_book():\n",
        "  name=input(\"enter the book to return\").strip()\n",
        "  found=False\n",
        "  for book in library:\n",
        "    if name.lower()==book['title'].lower():\n",
        "      found=True\n",
        "      if not book['available']:\n",
        "        book['available']=True\n",
        "        print(\"Thank you!,book is returned\")\n",
        "      break\n",
        "return_book()\n"
      ],
      "metadata": {
        "id": "oD21Zc26EYCW"
      },
      "execution_count": null,
      "outputs": []
    },
    {
      "cell_type": "code",
      "source": [
        "view_book()"
      ],
      "metadata": {
        "id": "46TftQ0cPfZW"
      },
      "execution_count": null,
      "outputs": []
    },
    {
      "cell_type": "code",
      "source": [
        "print(\"Menu\".center(20,\"*\"))\n",
        "while True:\n",
        "  print(\"The Choices are:\\n1.Add a book\\n2.View Books\\n3.Search a book\\n4.remove a book\\n.5.Borrow a book\\n6.return a book\\n7.To exit\")\n",
        "  choice=input(\"enter your choices from 1-6\\n\")\n",
        "  if choice=='1':\n",
        "    add_book()\n",
        "  elif choice=='2':\n",
        "    view_book()\n",
        "  elif choice=='3':\n",
        "    search_book()\n",
        "  elif choice=='4':\n",
        "    remove_book()\n",
        "  elif choice=='5':\n",
        "    borrow_book()\n",
        "  elif choice=='6':\n",
        "    return_book()\n",
        "  elif choice=='7':\n",
        "    print('exiting the system')\n",
        "    break\n",
        "  else:\n",
        "    print(\"out of range\")"
      ],
      "metadata": {
        "id": "gQplq6KeTP0H"
      },
      "execution_count": null,
      "outputs": []
    }
  ]
}