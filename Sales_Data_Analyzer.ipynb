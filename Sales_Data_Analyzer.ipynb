{
  "nbformat": 4,
  "nbformat_minor": 0,
  "metadata": {
    "colab": {
      "provenance": [],
      "authorship_tag": "ABX9TyNGlbP4AlZVjr7tMkeE813q",
      "include_colab_link": true
    },
    "kernelspec": {
      "name": "python3",
      "display_name": "Python 3"
    },
    "language_info": {
      "name": "python"
    }
  },
  "cells": [
    {
      "cell_type": "markdown",
      "metadata": {
        "id": "view-in-github",
        "colab_type": "text"
      },
      "source": [
        "<a href=\"https://colab.research.google.com/github/Rithika-04/mini_projects/blob/main/Sales_Data_Analyzer.ipynb\" target=\"_parent\"><img src=\"https://colab.research.google.com/assets/colab-badge.svg\" alt=\"Open In Colab\"/></a>"
      ]
    },
    {
      "cell_type": "code",
      "source": [
        "try:\n",
        "  data=[]\n",
        "  with open(\"sales.csv\",\"r\") as f:\n",
        "    next(f)\n",
        "    for i in f:\n",
        "      parts=i.strip().split(',')\n",
        "      if len(parts)==4:\n",
        "        [date,product,quantity,price]=parts\n",
        "        data.append([date,product,int(quantity),int(price)])\n",
        "  print(data)\n",
        "#       data.append(new_list)\n",
        "#     print(data)\n",
        "except FileNotFoundError:\n",
        "  print(\"file not found\")\n",
        "except Exception as e:\n",
        "  print(f\"unexpected error: {e}\")"
      ],
      "metadata": {
        "colab": {
          "base_uri": "https://localhost:8080/"
        },
        "id": "o4bK9AvAf2Uv",
        "outputId": "22f39042-34ea-4919-8f10-47f37fab8de2"
      },
      "execution_count": 4,
      "outputs": [
        {
          "output_type": "stream",
          "name": "stdout",
          "text": [
            "[['01-01-2024', 'pen', 10, 5], ['01-01-2024', 'Notebook', 10, 5], ['02-01-2024', 'pen', 7, 5], ['02-01-2024', 'Eraser', 12, 2], ['03-01-2024', 'Notebook', 8, 20], ['03-01-2024', 'pen', 15, 5]]\n"
          ]
        }
      ]
    },
    {
      "cell_type": "code",
      "source": [
        "def total_quantity_per_product(data):\n",
        "  total_sales={}\n",
        "  for row in data:\n",
        "    product=row[1].capitalize()\n",
        "    quantity=row[2]\n",
        "    price=row[3]\n",
        "    if product not in total_sales:\n",
        "      total_sales[product]={'quantity':0,'revenue':0}\n",
        "    total_sales[product]['quantity']+=quantity\n",
        "    total_sales[product]['revenue']+=price *quantity\n",
        "  for product,stats in total_sales.items():\n",
        "    print(f\"{product}:Quantity={stats['quantity']},Revenue:{stats['revenue']}\")\n",
        "total_quantity_per_product(data)\n",
        "\n"
      ],
      "metadata": {
        "colab": {
          "base_uri": "https://localhost:8080/"
        },
        "id": "k2-d37ISjRjC",
        "outputId": "1340e34d-289c-4e25-a7ef-2978b1054c10"
      },
      "execution_count": 30,
      "outputs": [
        {
          "output_type": "stream",
          "name": "stdout",
          "text": [
            "Pen:Quantity=32,Revenue:160\n",
            "Notebook:Quantity=18,Revenue:210\n",
            "Eraser:Quantity=12,Revenue:24\n"
          ]
        }
      ]
    },
    {
      "cell_type": "code",
      "source": [
        "def total_revenue_per_day(data,printoutput=True):\n",
        "  day_revenue={}\n",
        "  for row in data:\n",
        "    date=row[0]\n",
        "    quantity=row[2]\n",
        "    price=row[3]\n",
        "    if date not in day_revenue:\n",
        "      day_revenue[date] =0\n",
        "    day_revenue[date] += quantity*price\n",
        "  if printoutput:\n",
        "    for date,revenue in day_revenue.items():\n",
        "        print(f\"{date}:{revenue}\")\n",
        "  return day_revenue\n",
        "total_revenue_per_day(data)"
      ],
      "metadata": {
        "colab": {
          "base_uri": "https://localhost:8080/"
        },
        "id": "hlGFw1bVQrcP",
        "outputId": "3312ce07-9827-4979-84bd-33a916c2cef7"
      },
      "execution_count": 31,
      "outputs": [
        {
          "output_type": "stream",
          "name": "stdout",
          "text": [
            "01-01-2024:100\n",
            "02-01-2024:59\n",
            "03-01-2024:235\n"
          ]
        },
        {
          "output_type": "execute_result",
          "data": {
            "text/plain": [
              "{'01-01-2024': 100, '02-01-2024': 59, '03-01-2024': 235}"
            ]
          },
          "metadata": {},
          "execution_count": 31
        }
      ]
    },
    {
      "cell_type": "code",
      "source": [
        "def total_summary():\n",
        "  print(\"Product-Wise Summary\".center(40,\"=\"))\n",
        "  total_quantity_per_product(data)\n",
        "  print(\"\\n\")\n",
        "  print(\"Date-Wise Revenue Summary\".center(40,\"=\"))\n",
        "  total_revenue_per_day(data,printoutput=True)\n",
        "total_summary()"
      ],
      "metadata": {
        "colab": {
          "base_uri": "https://localhost:8080/"
        },
        "id": "wp88x9LTjKSd",
        "outputId": "1dace94a-729f-4f2a-f548-f5572918e872"
      },
      "execution_count": 33,
      "outputs": [
        {
          "output_type": "stream",
          "name": "stdout",
          "text": [
            "==========Product-Wise Summary==========\n",
            "Pen:Quantity=32,Revenue:160\n",
            "Notebook:Quantity=18,Revenue:210\n",
            "Eraser:Quantity=12,Revenue:24\n",
            "\n",
            "\n",
            "=======Date-Wise Revenue Summary========\n",
            "01-01-2024:100\n",
            "02-01-2024:59\n",
            "03-01-2024:235\n"
          ]
        }
      ]
    },
    {
      "cell_type": "code",
      "source": [
        "import matplotlib.pyplot as plt\n",
        "def plot_daily_revenue():\n",
        "  daily_revenue=total_revenue_per_day(data,printoutput=False)\n",
        "  date_lis=list(daily_revenue.keys())\n",
        "  revenue_lis=list(daily_revenue.values())\n",
        "  #plot\n",
        "  plt.plot(date_lis,revenue_lis,marker=\"o\",color='green',label='line')\n",
        "  plt.bar(date_lis,revenue_lis,color='blue',label='bar')\n",
        "  plt.title(\"Daily Revenue Summary\")\n",
        "  plt.xlabel(\"Date\")\n",
        "  plt.ylabel(\"revenue\")\n",
        "  for i,value in enumerate(revenue_lis):\n",
        "    plt.text(i,value + 5,str(value),ha='center')\n",
        "  plt.grid(True)\n",
        "  plt.tight_layout()\n",
        "  plt.legend()\n",
        "  plt.show()\n",
        "plot_daily_revenue()"
      ],
      "metadata": {
        "colab": {
          "base_uri": "https://localhost:8080/",
          "height": 487
        },
        "id": "gktC5yRalffa",
        "outputId": "6399c654-655e-4a39-c4da-ff724c07cf8c"
      },
      "execution_count": 52,
      "outputs": [
        {
          "output_type": "display_data",
          "data": {
            "text/plain": [
              "<Figure size 640x480 with 1 Axes>"
            ],
            "image/png": "[encoded data removed]"
          },
          "metadata": {}
        }
      ]
    }
  ]
}